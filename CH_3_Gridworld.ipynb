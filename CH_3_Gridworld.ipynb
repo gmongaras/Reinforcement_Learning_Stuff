{
 "cells": [
  {
   "cell_type": "code",
   "execution_count": 11,
   "metadata": {},
   "outputs": [],
   "source": [
    "import numpy as np"
   ]
  },
  {
   "cell_type": "code",
   "execution_count": 12,
   "metadata": {},
   "outputs": [],
   "source": [
    "# Define the grid for gridworld\n",
    "grid = (5, 5)"
   ]
  },
  {
   "cell_type": "code",
   "execution_count": 13,
   "metadata": {},
   "outputs": [],
   "source": [
    "def policy(state):\n",
    "    # Policy returns equal probabilities for each direction\n",
    "    return np.array([0.25, 0.25, 0.25, 0.25])"
   ]
  },
  {
   "cell_type": "code",
   "execution_count": 14,
   "metadata": {},
   "outputs": [],
   "source": [
    "def reward(state):\n",
    "    # Reward is -1 if out of bounds, else 0\n",
    "    i, j = state\n",
    "    if i < 0 or j < 0 or i >= grid[0] or j >= grid[1]:\n",
    "        return -1\n",
    "    return 0"
   ]
  },
  {
   "cell_type": "code",
   "execution_count": 15,
   "metadata": {},
   "outputs": [],
   "source": [
    "def state_transition(state, action):\n",
    "    # If the state is (0, 1), next state is (4, 1) and reward is 10\n",
    "    if state[0] == 0 and state[1] == 1:\n",
    "        return (4, 1), 10\n",
    "    # If the state is (0, 3), next state is (2, 3) and reward is 5\n",
    "    if state[0] == 0 and state[1] == 3:\n",
    "        return (2, 3), 5\n",
    "    \n",
    "    # North is 0, East is 1, South is 2, West is 3\n",
    "    if action == 0:\n",
    "        state_ = (state[0]-1, state[1])\n",
    "    elif action == 1:\n",
    "        state_ = (state[0], state[1]+1)\n",
    "    elif action == 2:\n",
    "        state_ = (state[0]+1, state[1])\n",
    "    elif action == 3:\n",
    "        state_ = (state[0], state[1]-1)\n",
    "        \n",
    "    # Get reward for the next state (-1 or 0)\n",
    "    r = reward(state_)\n",
    "        \n",
    "    # If next state is greater than the bounds, move in bounds\n",
    "    state_ = (min(grid[0]-1, max(0, state_[0])), min(grid.shape[1]-1, max(0, state_[1])))\n",
    "    \n",
    "    return state_, r"
   ]
  },
  {
   "cell_type": "code",
   "execution_count": 16,
   "metadata": {},
   "outputs": [],
   "source": [
    "# Discount factor\n",
    "discount = 0.9"
   ]
  },
  {
   "cell_type": "code",
   "execution_count": 17,
   "metadata": {},
   "outputs": [],
   "source": [
    "# state-values initialized to zeros\n",
    "values = np.zeros(grid, dtype=float)"
   ]
  },
  {
   "cell_type": "code",
   "execution_count": 18,
   "metadata": {},
   "outputs": [
    {
     "ename": "AttributeError",
     "evalue": "'tuple' object has no attribute 'shape'",
     "output_type": "error",
     "traceback": [
      "\u001b[1;31m---------------------------------------------------------------------------\u001b[0m",
      "\u001b[1;31mAttributeError\u001b[0m                            Traceback (most recent call last)",
      "Cell \u001b[1;32mIn[18], line 44\u001b[0m\n\u001b[0;32m     41\u001b[0m \u001b[38;5;28;01mfor\u001b[39;00m i \u001b[38;5;129;01min\u001b[39;00m \u001b[38;5;28mrange\u001b[39m(\u001b[38;5;241m0\u001b[39m, grid[\u001b[38;5;241m0\u001b[39m]):\n\u001b[0;32m     42\u001b[0m     \u001b[38;5;28;01mfor\u001b[39;00m j \u001b[38;5;129;01min\u001b[39;00m \u001b[38;5;28mrange\u001b[39m(\u001b[38;5;241m0\u001b[39m, grid[\u001b[38;5;241m1\u001b[39m]):\n\u001b[0;32m     43\u001b[0m         \u001b[38;5;66;03m# State is (i, j)\u001b[39;00m\n\u001b[1;32m---> 44\u001b[0m         values[i, j] \u001b[38;5;241m=\u001b[39m \u001b[43mcalculate_state_value\u001b[49m\u001b[43m(\u001b[49m\u001b[43m(\u001b[49m\u001b[43mi\u001b[49m\u001b[43m,\u001b[49m\u001b[43m \u001b[49m\u001b[43mj\u001b[49m\u001b[43m)\u001b[49m\u001b[43m,\u001b[49m\u001b[43m \u001b[49m\u001b[38;5;241;43m0\u001b[39;49m\u001b[43m)\u001b[49m\n",
      "Cell \u001b[1;32mIn[18], line 20\u001b[0m, in \u001b[0;36mcalculate_state_value\u001b[1;34m(state, d)\u001b[0m\n\u001b[0;32m     17\u001b[0m p \u001b[38;5;241m=\u001b[39m probs[a]\n\u001b[0;32m     19\u001b[0m \u001b[38;5;66;03m# With probability 1, we go to the next state\u001b[39;00m\n\u001b[1;32m---> 20\u001b[0m state_, r \u001b[38;5;241m=\u001b[39m \u001b[43mstate_transition\u001b[49m\u001b[43m(\u001b[49m\u001b[43mstate\u001b[49m\u001b[43m,\u001b[49m\u001b[43m \u001b[49m\u001b[43ma\u001b[49m\u001b[43m)\u001b[49m\n\u001b[0;32m     22\u001b[0m \u001b[38;5;66;03m# Calculate value of future state\u001b[39;00m\n\u001b[0;32m     23\u001b[0m v \u001b[38;5;241m=\u001b[39m calculate_state_value(state_, d\u001b[38;5;241m+\u001b[39m\u001b[38;5;241m1\u001b[39m)\n",
      "Cell \u001b[1;32mIn[15], line 23\u001b[0m, in \u001b[0;36mstate_transition\u001b[1;34m(state, action)\u001b[0m\n\u001b[0;32m     20\u001b[0m r \u001b[38;5;241m=\u001b[39m reward(state_)\n\u001b[0;32m     22\u001b[0m \u001b[38;5;66;03m# If next state is greater than the bounds, move in bounds\u001b[39;00m\n\u001b[1;32m---> 23\u001b[0m state_ \u001b[38;5;241m=\u001b[39m (\u001b[38;5;28mmin\u001b[39m(\u001b[43mgrid\u001b[49m\u001b[38;5;241;43m.\u001b[39;49m\u001b[43mshape\u001b[49m[\u001b[38;5;241m0\u001b[39m]\u001b[38;5;241m-\u001b[39m\u001b[38;5;241m1\u001b[39m, \u001b[38;5;28mmax\u001b[39m(\u001b[38;5;241m0\u001b[39m, state_[\u001b[38;5;241m0\u001b[39m])), \u001b[38;5;28mmin\u001b[39m(grid\u001b[38;5;241m.\u001b[39mshape[\u001b[38;5;241m1\u001b[39m]\u001b[38;5;241m-\u001b[39m\u001b[38;5;241m1\u001b[39m, \u001b[38;5;28mmax\u001b[39m(\u001b[38;5;241m0\u001b[39m, state_[\u001b[38;5;241m1\u001b[39m])))\n\u001b[0;32m     25\u001b[0m \u001b[38;5;28;01mreturn\u001b[39;00m state_, r\n",
      "\u001b[1;31mAttributeError\u001b[0m: 'tuple' object has no attribute 'shape'"
     ]
    }
   ],
   "source": [
    "# Recursive depth\n",
    "depth = 9\n",
    "\n",
    "# Function used to calculate the state_value of a given state\n",
    "def calculate_state_value(state, d):\n",
    "    if d == depth:\n",
    "        return 0\n",
    "    \n",
    "    # Sample policy probabilities\n",
    "    probs = policy(state)\n",
    "    \n",
    "    total_value = 0\n",
    "    \n",
    "    # Iterate over all possible actions\n",
    "    for a in range(0, len(probs)):\n",
    "        # Policy probability pi(a | s)\n",
    "        p = probs[a]\n",
    "        \n",
    "        # With probability 1, we go to the next state\n",
    "        state_, r = state_transition(state, a)\n",
    "        \n",
    "        # Calculate value of future state\n",
    "        v = calculate_state_value(state_, d+1)\n",
    "        \n",
    "        # Sum of future states is just the next state as\n",
    "        # we deterministically move to the next state\n",
    "        # p(s', r | s, a) = 1\n",
    "        sum_ = 1 * (r + discount * v)\n",
    "        \n",
    "        # Weigh by the policy probability\n",
    "        value = p * sum_\n",
    "        \n",
    "        # Add to total value\n",
    "        total_value += value\n",
    "        \n",
    "    return total_value\n",
    "        \n",
    "    \n",
    "\n",
    "# Iterate for all i,j on the grid\n",
    "for i in range(0, grid[0]):\n",
    "    for j in range(0, grid[1]):\n",
    "        # State is (i, j)\n",
    "        values[i, j] = calculate_state_value((i, j), 0)"
   ]
  },
  {
   "cell_type": "code",
   "execution_count": null,
   "metadata": {},
   "outputs": [
    {
     "data": {
      "text/plain": [
       "array([[ 3.33,  8.93,  4.44,  5.26,  1.35],\n",
       "       [ 1.47,  2.97,  2.21,  1.82,  0.42],\n",
       "       [-0.  ,  0.72,  0.63,  0.33, -0.45],\n",
       "       [-0.93, -0.4 , -0.28, -0.52, -1.1 ],\n",
       "       [-1.74, -1.21, -1.09, -1.26, -1.8 ]])"
      ]
     },
     "execution_count": 10,
     "metadata": {},
     "output_type": "execute_result"
    }
   ],
   "source": [
    "values.round(2)"
   ]
  },
  {
   "cell_type": "code",
   "execution_count": null,
   "metadata": {},
   "outputs": [],
   "source": []
  }
 ],
 "metadata": {
  "kernelspec": {
   "display_name": "Python 3",
   "language": "python",
   "name": "python3"
  },
  "language_info": {
   "codemirror_mode": {
    "name": "ipython",
    "version": 3
   },
   "file_extension": ".py",
   "mimetype": "text/x-python",
   "name": "python",
   "nbconvert_exporter": "python",
   "pygments_lexer": "ipython3",
   "version": "3.10.10"
  }
 },
 "nbformat": 4,
 "nbformat_minor": 2
}
