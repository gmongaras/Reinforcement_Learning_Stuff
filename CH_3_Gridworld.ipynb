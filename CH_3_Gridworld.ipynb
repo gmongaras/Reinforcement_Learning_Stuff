{
 "cells": [
  {
   "cell_type": "code",
   "execution_count": 1,
   "metadata": {},
   "outputs": [],
   "source": [
    "import numpy as np"
   ]
  },
  {
   "cell_type": "code",
   "execution_count": 2,
   "metadata": {},
   "outputs": [
    {
     "data": {
      "text/plain": [
       "array([[ 0, 10,  0,  5,  0],\n",
       "       [ 0,  0,  0,  0,  0],\n",
       "       [ 0,  0,  0,  0,  0],\n",
       "       [ 0,  0,  0,  0,  0],\n",
       "       [ 0,  0,  0,  0,  0]])"
      ]
     },
     "execution_count": 2,
     "metadata": {},
     "output_type": "execute_result"
    }
   ],
   "source": [
    "# Define the grid for gridworld (including the out of bounds states)\n",
    "grid = np.array([\n",
    "    [0, 10, 0, 5, 0],\n",
    "    [0, 0, 0, 0, 0],\n",
    "    [0, 0, 0, 0, 0],\n",
    "    [0, 0, 0, 0, 0],\n",
    "    [0, 0, 0, 0, 0]\n",
    "])\n",
    "grid"
   ]
  },
  {
   "cell_type": "code",
   "execution_count": 3,
   "metadata": {},
   "outputs": [
    {
     "data": {
      "text/plain": [
       "array([[0.025 , 0.0375, 0.0375, 0.0375, 0.025 ],\n",
       "       [0.0375, 0.05  , 0.05  , 0.05  , 0.0375],\n",
       "       [0.0375, 0.05  , 0.05  , 0.05  , 0.0375],\n",
       "       [0.0375, 0.05  , 0.05  , 0.05  , 0.0375],\n",
       "       [0.025 , 0.0375, 0.0375, 0.0375, 0.025 ]])"
      ]
     },
     "execution_count": 3,
     "metadata": {},
     "output_type": "execute_result"
    }
   ],
   "source": [
    "# Probs for each state\n",
    "grid_probs = np.array([\n",
    "    [2, 3, 3, 3, 2],\n",
    "    [3, 4, 4, 4, 3],\n",
    "    [3, 4, 4, 4, 3],\n",
    "    [3, 4, 4, 4, 3],\n",
    "    [2, 3, 3, 3, 2]\n",
    "]).astype(float)\n",
    "grid_probs /= grid_probs.sum()\n",
    "grid_probs"
   ]
  },
  {
   "cell_type": "code",
   "execution_count": 4,
   "metadata": {},
   "outputs": [],
   "source": [
    "def policy(state):\n",
    "    # Policy returns equal probabilities for each direction\n",
    "    return np.array([0.25, 0.25, 0.25, 0.25])"
   ]
  },
  {
   "cell_type": "code",
   "execution_count": 5,
   "metadata": {},
   "outputs": [],
   "source": [
    "def reward(state):\n",
    "    # Reward is -1 if out of bounds, else 0\n",
    "    i, j = state\n",
    "    if i < 0 or j < 0 or i >= grid.shape[0] or j >= grid.shape[1]:\n",
    "        return -1\n",
    "    return 0"
   ]
  },
  {
   "cell_type": "code",
   "execution_count": 6,
   "metadata": {},
   "outputs": [],
   "source": [
    "def state_transition(state, action):\n",
    "    # If the state is (0, 1), next state is (4, 1) and reward is 10\n",
    "    if state[0] == 0 and state[1] == 1:\n",
    "        return (4, 1), 10\n",
    "    # If the state is (0, 3), next state is (2, 3) and reward is 5\n",
    "    if state[0] == 0 and state[1] == 3:\n",
    "        return (2, 3), 5\n",
    "    \n",
    "    # North is 0, East is 1, South is 2, West is 3\n",
    "    if action == 0:\n",
    "        state_ = (state[0]-1, state[1])\n",
    "    elif action == 1:\n",
    "        state_ = (state[0], state[1]+1)\n",
    "    elif action == 2:\n",
    "        state_ = (state[0]+1, state[1])\n",
    "    elif action == 3:\n",
    "        state_ = (state[0], state[1]-1)\n",
    "        \n",
    "    # Get reward for the next state (-1 or 0)\n",
    "    r = reward(state_)\n",
    "        \n",
    "    # If next state is greater than the bounds, move in bounds\n",
    "    state_ = (min(grid.shape[0]-1, max(0, state_[0])), min(grid.shape[1]-1, max(0, state_[1])))\n",
    "    \n",
    "    return state_, r"
   ]
  },
  {
   "cell_type": "code",
   "execution_count": 7,
   "metadata": {},
   "outputs": [],
   "source": [
    "# Discount factor\n",
    "discount = 0.9"
   ]
  },
  {
   "cell_type": "code",
   "execution_count": 8,
   "metadata": {},
   "outputs": [],
   "source": [
    "# state-values initialized to zeros\n",
    "values = np.zeros_like(grid, dtype=float)"
   ]
  },
  {
   "cell_type": "code",
   "execution_count": 9,
   "metadata": {},
   "outputs": [],
   "source": [
    "# Recursive depth\n",
    "depth = 9\n",
    "\n",
    "# Function used to calculate the state_value of a given state\n",
    "def calculate_state_value(state, d):\n",
    "    if d == depth:\n",
    "        return 0\n",
    "    \n",
    "    # Sample policy probabilities\n",
    "    probs = policy(state)\n",
    "    \n",
    "    total_value = 0\n",
    "    \n",
    "    # Iterate over all possible actions\n",
    "    for a in range(0, len(probs)):\n",
    "        # Policy probability pi(a | s)\n",
    "        p = probs[a]\n",
    "        \n",
    "        # With probability 1, we go to the next state\n",
    "        state_, r = state_transition(state, a)\n",
    "        \n",
    "        # Calculate value of future state\n",
    "        v = calculate_state_value(state_, d+1)\n",
    "        \n",
    "        # Sum of future states is just the next state as\n",
    "        # we deterministically move to the next state\n",
    "        # p(s', r | s, a) = 1\n",
    "        sum_ = 1 * (r + discount * v)\n",
    "        \n",
    "        # Weigh by the policy probability\n",
    "        value = p * sum_\n",
    "        \n",
    "        # Add to total value\n",
    "        total_value += value\n",
    "        \n",
    "    return total_value\n",
    "        \n",
    "    \n",
    "\n",
    "# Iterate for all i,j on the grid\n",
    "for i in range(0, grid.shape[0]):\n",
    "    for j in range(0, grid.shape[1]):\n",
    "        # State is (i, j)\n",
    "        values[i, j] = calculate_state_value((i, j), 0)"
   ]
  },
  {
   "cell_type": "code",
   "execution_count": 10,
   "metadata": {},
   "outputs": [
    {
     "data": {
      "text/plain": [
       "array([[ 3.33,  8.93,  4.44,  5.26,  1.35],\n",
       "       [ 1.47,  2.97,  2.21,  1.82,  0.42],\n",
       "       [-0.  ,  0.72,  0.63,  0.33, -0.45],\n",
       "       [-0.93, -0.4 , -0.28, -0.52, -1.1 ],\n",
       "       [-1.74, -1.21, -1.09, -1.26, -1.8 ]])"
      ]
     },
     "execution_count": 10,
     "metadata": {},
     "output_type": "execute_result"
    }
   ],
   "source": [
    "values.round(2)"
   ]
  },
  {
   "cell_type": "code",
   "execution_count": null,
   "metadata": {},
   "outputs": [],
   "source": []
  }
 ],
 "metadata": {
  "kernelspec": {
   "display_name": "Python 3",
   "language": "python",
   "name": "python3"
  },
  "language_info": {
   "codemirror_mode": {
    "name": "ipython",
    "version": 3
   },
   "file_extension": ".py",
   "mimetype": "text/x-python",
   "name": "python",
   "nbconvert_exporter": "python",
   "pygments_lexer": "ipython3",
   "version": "3.10.10"
  }
 },
 "nbformat": 4,
 "nbformat_minor": 2
}
