{
 "cells": [
  {
   "cell_type": "code",
   "execution_count": 1,
   "metadata": {},
   "outputs": [],
   "source": [
    "import numpy as np"
   ]
  },
  {
   "cell_type": "code",
   "execution_count": 2,
   "metadata": {},
   "outputs": [],
   "source": [
    "# Define the grid for gridworld\n",
    "grid = (4, 4)"
   ]
  },
  {
   "cell_type": "code",
   "execution_count": 3,
   "metadata": {},
   "outputs": [],
   "source": [
    "# Terminal states for the gridworld\n",
    "terminal_states = [\n",
    "    (0, 0),\n",
    "    (3, 3)\n",
    "]"
   ]
  },
  {
   "cell_type": "code",
   "execution_count": 4,
   "metadata": {},
   "outputs": [],
   "source": [
    "# All states\n",
    "states = [\n",
    "    (i, j)\n",
    "    for i in range(0, grid[0])\n",
    "    for j in range(0, grid[1])\n",
    "]"
   ]
  },
  {
   "cell_type": "code",
   "execution_count": 5,
   "metadata": {},
   "outputs": [],
   "source": [
    "class Policy:\n",
    "    def __init__(self,):\n",
    "        # Define an action to take (0, 1, 2, 3) for each state\n",
    "        # Initialize to a random action\n",
    "        self.actions = {\n",
    "            state: np.random.choice([0,1,2,3], size=1, p=[0.25, 0.25, 0.25, 0.25])[0] for state in states\n",
    "        }\n",
    "        \n",
    "        # Define the values to be 0 in all states\n",
    "        self.values = {\n",
    "            state: 0 for state in states\n",
    "        }\n",
    "        \n",
    "    def __call__(self, state):\n",
    "        return self.actions[state]"
   ]
  },
  {
   "cell_type": "code",
   "execution_count": 6,
   "metadata": {},
   "outputs": [],
   "source": [
    "def reward(state):\n",
    "    # Reward is -1 in all states\n",
    "    return -1 if state not in terminal_states else 0"
   ]
  },
  {
   "cell_type": "code",
   "execution_count": 7,
   "metadata": {},
   "outputs": [],
   "source": [
    "def state_transition(state, action):\n",
    "    # North is 0, East is 1, South is 2, West is 3\n",
    "    if action == 0:\n",
    "        state_ = (state[0]-1, state[1])\n",
    "    elif action == 1:\n",
    "        state_ = (state[0], state[1]+1)\n",
    "    elif action == 2:\n",
    "        state_ = (state[0]+1, state[1])\n",
    "    elif action == 3:\n",
    "        state_ = (state[0], state[1]-1)\n",
    "        \n",
    "    # Get reward for the next state\n",
    "    r = reward(state_)\n",
    "        \n",
    "    # If next state is greater than the bounds, move in bounds\n",
    "    state_ = (min(grid[0]-1, max(0, state_[0])), min(grid[1]-1, max(0, state_[1])))\n",
    "    \n",
    "    return state_, r"
   ]
  },
  {
   "cell_type": "code",
   "execution_count": 8,
   "metadata": {},
   "outputs": [],
   "source": [
    "# Discount factor\n",
    "discount = 0.9"
   ]
  },
  {
   "cell_type": "code",
   "execution_count": 13,
   "metadata": {},
   "outputs": [],
   "source": [
    "def value_iteration(policy):\n",
    "    num_iters = 0\n",
    "    \n",
    "    thresh = 1e-6\n",
    "    delta = 1\n",
    "    while delta > thresh:\n",
    "        delta = 0\n",
    "        \n",
    "        # Loop over every state\n",
    "        for state in states:\n",
    "            # Skip terminal states\n",
    "            if state in terminal_states:\n",
    "                continue\n",
    "            \n",
    "            # Get the old value of that state\n",
    "            old_value = policy.values[state]\n",
    "            \n",
    "            # For each action, get the q value of the state following that action\n",
    "            q_values = []\n",
    "            for action in [0, 1, 2, 3]:\n",
    "                # Get the next state and reward from taking the action\n",
    "                next_state, r = state_transition(state, action)\n",
    "                \n",
    "                # What is the q value of the new state?\n",
    "                value = r + discount * policy.values[next_state]\n",
    "                \n",
    "                # Add the q value to the list\n",
    "                q_values.append(value)\n",
    "                \n",
    "            # Get the max q value\n",
    "            new_value = max(q_values)\n",
    "            \n",
    "            # Update the value\n",
    "            policy.values[state] = new_value\n",
    "            \n",
    "            # Update delta\n",
    "            delta = max(delta, abs(old_value - new_value))\n",
    "            \n",
    "        num_iters += 1\n",
    "    \n",
    "    # Create the optimal policy based on the values\n",
    "    for state in states:\n",
    "        # Skip terminal states\n",
    "        if state in terminal_states:\n",
    "            continue\n",
    "            \n",
    "        # Get the q values for each action\n",
    "        q_values = []\n",
    "        for action in [0, 1, 2, 3]:\n",
    "            # Get the next state and reward from taking the action\n",
    "            next_state, r = state_transition(state, action)\n",
    "\n",
    "            # What is the q value of the new state?\n",
    "            value = r + discount * policy.values[next_state]\n",
    "\n",
    "            # Add the q value to the list\n",
    "            q_values.append(value)\n",
    "            \n",
    "        # Get the action that maximizes the q value\n",
    "        policy.actions[state] = np.argmax(q_values)\n",
    "        \n",
    "    print(f\"Took {num_iters} iterations to converge\")"
   ]
  },
  {
   "cell_type": "code",
   "execution_count": 14,
   "metadata": {},
   "outputs": [
    {
     "name": "stdout",
     "output_type": "stream",
     "text": [
      "Took 3 iterations to converge\n"
     ]
    }
   ],
   "source": [
    "policy = Policy()\n",
    "value_iteration(policy)"
   ]
  },
  {
   "cell_type": "code",
   "execution_count": 15,
   "metadata": {},
   "outputs": [
    {
     "name": "stdout",
     "output_type": "stream",
     "text": [
      "N  <  <  v  \n",
      "^  ^  ^  v  \n",
      "^  ^  >  v  \n",
      "^  >  >  N  \n"
     ]
    }
   ],
   "source": [
    "# Print actions on a grid\n",
    "for i in range(0, grid[0]):\n",
    "    # Action is N for terminal states\n",
    "    for j in range(0, grid[1]):\n",
    "        if (i, j) in terminal_states:\n",
    "            print(\"N \", end=\" \")\n",
    "            continue\n",
    "        action = policy.actions[(i, j)]\n",
    "        # Change to arrow\n",
    "        if action == 0:\n",
    "            print(\"^\", end=\" \")\n",
    "        elif action == 1:\n",
    "            print(\">\", end=\" \")\n",
    "        elif action == 2:\n",
    "            print(\"v\", end=\" \")\n",
    "        elif action == 3:\n",
    "            print(\"<\", end=\" \")\n",
    "        print(\"\", end=\" \")\n",
    "    print()"
   ]
  },
  {
   "cell_type": "code",
   "execution_count": 16,
   "metadata": {},
   "outputs": [
    {
     "name": "stdout",
     "output_type": "stream",
     "text": [
      "0.00 0.00 -1.00 -1.90 \n",
      "0.00 -1.00 -1.90 -1.00 \n",
      "-1.00 -1.90 -1.00 0.00 \n",
      "-1.90 -1.00 0.00 0.00 \n"
     ]
    }
   ],
   "source": [
    "# Print values in a grid to 2 decimal places\n",
    "for i in range(0, grid[0]):\n",
    "    for j in range(0, grid[1]):\n",
    "        print(f\"{policy.values[(i, j)]:.2f}\", end=\" \")\n",
    "    print()"
   ]
  },
  {
   "cell_type": "code",
   "execution_count": null,
   "metadata": {},
   "outputs": [],
   "source": []
  }
 ],
 "metadata": {
  "kernelspec": {
   "display_name": "Python 3",
   "language": "python",
   "name": "python3"
  },
  "language_info": {
   "codemirror_mode": {
    "name": "ipython",
    "version": 3
   },
   "file_extension": ".py",
   "mimetype": "text/x-python",
   "name": "python",
   "nbconvert_exporter": "python",
   "pygments_lexer": "ipython3",
   "version": "3.10.10"
  }
 },
 "nbformat": 4,
 "nbformat_minor": 2
}
