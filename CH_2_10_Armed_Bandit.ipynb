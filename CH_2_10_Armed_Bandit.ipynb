{
 "cells": [
  {
   "cell_type": "code",
   "execution_count": 1,
   "metadata": {},
   "outputs": [],
   "source": [
    "import numpy as np\n",
    "import matplotlib.pyplot as plt\n",
    "from scipy.special import softmax"
   ]
  },
  {
   "cell_type": "markdown",
   "metadata": {},
   "source": [
    "# Setup"
   ]
  },
  {
   "cell_type": "code",
   "execution_count": 2,
   "metadata": {},
   "outputs": [],
   "source": [
    "k = 10          # Number of arms (distributions)"
   ]
  },
  {
   "cell_type": "code",
   "execution_count": 3,
   "metadata": {},
   "outputs": [],
   "source": [
    "# Generate the true reward for each action\n",
    "action_values = np.random.randn(k)"
   ]
  },
  {
   "cell_type": "code",
   "execution_count": 4,
   "metadata": {},
   "outputs": [
    {
     "data": {
      "image/png": "[encoded data removed]",
      "text/plain": [
       "<Figure size 640x480 with 1 Axes>"
      ]
     },
     "metadata": {},
     "output_type": "display_data"
    }
   ],
   "source": [
    "# Plot the values for each k. It should be discrete points, not a line\n",
    "plt.plot(action_values, 'o')\n",
    "plt.xlabel('Action')\n",
    "plt.ylabel('Value')\n",
    "plt.show()"
   ]
  },
  {
   "cell_type": "code",
   "execution_count": 5,
   "metadata": {},
   "outputs": [],
   "source": [
    "# Reward is sampled from a distribution with mean\n",
    "# q*(a), the mean of the given action\n",
    "def reward_model(action_values, action):\n",
    "    return np.random.randn() + action_values[action]"
   ]
  },
  {
   "cell_type": "code",
   "execution_count": 6,
   "metadata": {},
   "outputs": [],
   "source": [
    "# Optimal action is the one with the greatest mean\n",
    "optimal_action = action_values.argmax()"
   ]
  },
  {
   "cell_type": "markdown",
   "metadata": {},
   "source": [
    "# Basic Epsilon Search"
   ]
  },
  {
   "cell_type": "code",
   "execution_count": 7,
   "metadata": {},
   "outputs": [],
   "source": [
    "def epsilon_search(action_values, epsilon, num_iterations=1000, init=0):\n",
    "    num_actions = action_values.shape[0]\n",
    "    \n",
    "    # Q value / estimated reward for each action is 0\n",
    "    q_values = np.zeros(num_actions) + init\n",
    "    # Number of times each action has been taken is 0\n",
    "    n_values = np.zeros(num_actions)\n",
    "    \n",
    "    # Average reward\n",
    "    avg_reward = 0\n",
    "    \n",
    "    for it in range(1, num_iterations+1):\n",
    "        # Random action with probability epsilon\n",
    "        sample = np.random.rand()\n",
    "        if sample < epsilon:\n",
    "            action = np.random.randint(0, num_actions)\n",
    "        else:\n",
    "            action = np.argmax(q_values)\n",
    "            \n",
    "        # Get the reward for the given action\n",
    "        reward = reward_model(action_values, action)\n",
    "        \n",
    "        avg_reward += reward\n",
    "        \n",
    "        # Update the q values and n values\n",
    "        n_values[action] += 1\n",
    "        q_values[action] = q_values[action] + 1/n_values[action] * (reward - q_values[action])\n",
    "        \n",
    "    return q_values, avg_reward/num_iterations"
   ]
  },
  {
   "cell_type": "code",
   "execution_count": 8,
   "metadata": {},
   "outputs": [
    {
     "name": "stdout",
     "output_type": "stream",
     "text": [
      "MSE 0.010974502899930573\n",
      "[-0.17171225 -0.39328213 -1.8378916   0.42082669  0.97542771 -2.0896267\n",
      " -0.37673618 -1.34289793 -0.00615886 -0.33282939]\n",
      "[-0.15692823 -0.39549824 -1.66959115  0.38393378  0.97873751 -1.98213694\n",
      " -0.25675163 -1.12404535 -0.0785878  -0.3598798 ]\n",
      "0.8254215707776955\n"
     ]
    }
   ],
   "source": [
    "# Test\n",
    "pred, avg_reward = epsilon_search(action_values, 0.1, 10000)\n",
    "# MSE\n",
    "print(\n",
    "    \"MSE\",\n",
    "    ((pred-action_values)**2).mean()\n",
    ")\n",
    "print(pred)\n",
    "print(action_values)\n",
    "print(avg_reward)"
   ]
  },
  {
   "cell_type": "code",
   "execution_count": null,
   "metadata": {},
   "outputs": [],
   "source": []
  },
  {
   "cell_type": "code",
   "execution_count": null,
   "metadata": {},
   "outputs": [],
   "source": []
  },
  {
   "cell_type": "markdown",
   "metadata": {},
   "source": [
    "# Upper Confidence Bound"
   ]
  },
  {
   "cell_type": "code",
   "execution_count": 72,
   "metadata": {},
   "outputs": [],
   "source": [
    "def UCB_search(action_values, num_iterations=1000, c=1):\n",
    "    num_actions = action_values.shape[0]\n",
    "    \n",
    "    # Q value / estimated reward for each action is 0\n",
    "    q_values = np.zeros(num_actions)\n",
    "    # Number of times each action has been taken is 0\n",
    "    n_values = np.zeros(num_actions)\n",
    "    \n",
    "    # Average reward\n",
    "    avg_reward = 0\n",
    "    \n",
    "    for it in range(1, num_iterations+1):\n",
    "        # Select \"best\" action according to UCB\n",
    "        actions = np.zeros(num_actions)\n",
    "        mask = n_values > 0\n",
    "        actions[mask] = q_values[mask] + c*np.sqrt(np.log(it)/n_values[mask])\n",
    "        actions[~mask] = q_values[~mask]\n",
    "        action = np.argmax(actions)\n",
    "            \n",
    "        # Get the reward for the given action\n",
    "        reward = reward_model(action_values, action)\n",
    "        \n",
    "        avg_reward += reward\n",
    "        \n",
    "        # Update the q values and n values\n",
    "        n_values[action] += 1\n",
    "        q_values[action] = q_values[action] + 1/n_values[action] * (reward - q_values[action])\n",
    "        \n",
    "    return q_values, avg_reward/num_iterations"
   ]
  },
  {
   "cell_type": "code",
   "execution_count": 73,
   "metadata": {},
   "outputs": [
    {
     "name": "stdout",
     "output_type": "stream",
     "text": [
      "MSE 0.8345989561118268\n",
      "[-0.63867846 -0.80974847 -2.62854083 -0.89222461  0.99225047  0.\n",
      "  0.          0.          0.          0.        ]\n",
      "[-0.15692823 -0.39549824 -1.66959115  0.38393378  0.97873751 -1.98213694\n",
      " -0.25675163 -1.12404535 -0.0785878  -0.3598798 ]\n",
      "0.9784194868745173\n"
     ]
    }
   ],
   "source": [
    "# Test\n",
    "pred, avg_reward = UCB_search(action_values, 1000, 0.5)\n",
    "# MSE\n",
    "print(\n",
    "    \"MSE\",\n",
    "    ((pred-action_values)**2).mean()\n",
    ")\n",
    "print(pred)\n",
    "print(action_values)\n",
    "print(avg_reward)"
   ]
  },
  {
   "cell_type": "code",
   "execution_count": null,
   "metadata": {},
   "outputs": [],
   "source": []
  },
  {
   "cell_type": "code",
   "execution_count": null,
   "metadata": {},
   "outputs": [],
   "source": []
  },
  {
   "cell_type": "markdown",
   "metadata": {},
   "source": [
    "# Gradient Ascent"
   ]
  },
  {
   "cell_type": "code",
   "execution_count": 44,
   "metadata": {},
   "outputs": [],
   "source": [
    "def Grad_Ascent(action_values, num_iterations=1000, init=0, step_size=0.1):\n",
    "    num_actions = action_values.shape[0]\n",
    "    \n",
    "    # Preference for each action\n",
    "    preferences = np.zeros(num_actions) + init\n",
    "    \n",
    "    # Average reward\n",
    "    avg_reward = 0\n",
    "    \n",
    "    # Number of times the optimal action was chosen\n",
    "    \n",
    "    for it in range(1, num_iterations+1):\n",
    "        # Calculate the probability of each action\n",
    "        probs = softmax(preferences)\n",
    "        \n",
    "        # Sample ditribution\n",
    "        action = np.random.choice(np.arange(0, num_actions), p=probs)\n",
    "        \n",
    "        # Get the reward for the given action\n",
    "        reward = reward_model(action_values, action)\n",
    "        \n",
    "        # Update model\n",
    "        for a in range(0, num_actions):\n",
    "            if a == action:\n",
    "                # Step in the direciton of this action\n",
    "                preferences[a] = preferences[a] + step_size * (reward - avg_reward) * (1-probs[a])\n",
    "            else:\n",
    "                # Step away from the other actions\n",
    "                preferences[a] = preferences[a] - step_size * (reward - avg_reward) * probs[a]\n",
    "                \n",
    "        # Update average\n",
    "        avg_reward += reward/num_iterations\n",
    "        \n",
    "    return preferences, avg_reward"
   ]
  },
  {
   "cell_type": "code",
   "execution_count": 45,
   "metadata": {},
   "outputs": [
    {
     "name": "stdout",
     "output_type": "stream",
     "text": [
      "0.9788688662056394\n"
     ]
    }
   ],
   "source": [
    "# Test\n",
    "pred, avg_reward = Grad_Ascent(action_values, 100000)\n",
    "# MSE\n",
    "print(avg_reward)"
   ]
  },
  {
   "cell_type": "code",
   "execution_count": null,
   "metadata": {},
   "outputs": [],
   "source": []
  },
  {
   "cell_type": "code",
   "execution_count": null,
   "metadata": {},
   "outputs": [],
   "source": []
  },
  {
   "cell_type": "markdown",
   "metadata": {},
   "source": [
    "# Evaluation"
   ]
  },
  {
   "cell_type": "code",
   "execution_count": 13,
   "metadata": {},
   "outputs": [],
   "source": [
    "from tqdm import tqdm"
   ]
  },
  {
   "cell_type": "code",
   "execution_count": 74,
   "metadata": {},
   "outputs": [
    {
     "name": "stderr",
     "output_type": "stream",
     "text": [
      "100%|██████████| 2000/2000 [00:08<00:00, 234.51it/s]\n"
     ]
    },
    {
     "name": "stdout",
     "output_type": "stream",
     "text": [
      "Num steps: 100\n",
      "Greedy  | Average reward: 0.5290 | Percent optimal action: 0.4645\n",
      "Epsilon | Average reward: 0.5099 | Percent optimal action: 0.7045\n",
      "UCB     | Average reward: 0.3095 | Percent optimal action: 0.2015\n",
      "Grad    | Average reward: -0.0596 | Percent optimal action: 0.8890\n"
     ]
    },
    {
     "name": "stderr",
     "output_type": "stream",
     "text": [
      "100%|██████████| 2000/2000 [00:53<00:00, 37.25it/s] \n"
     ]
    },
    {
     "name": "stdout",
     "output_type": "stream",
     "text": [
      "Num steps: 200\n",
      "Greedy  | Average reward: 0.5905 | Percent optimal action: 0.4805\n",
      "Epsilon | Average reward: 0.5991 | Percent optimal action: 0.8095\n",
      "UCB     | Average reward: 0.3873 | Percent optimal action: 0.2015\n",
      "Grad    | Average reward: 0.3078 | Percent optimal action: 0.9710\n"
     ]
    },
    {
     "name": "stderr",
     "output_type": "stream",
     "text": [
      "100%|██████████| 2000/2000 [00:25<00:00, 77.30it/s]\n"
     ]
    },
    {
     "name": "stdout",
     "output_type": "stream",
     "text": [
      "Num steps: 300\n",
      "Greedy  | Average reward: 0.6163 | Percent optimal action: 0.4965\n",
      "Epsilon | Average reward: 0.6478 | Percent optimal action: 0.8660\n",
      "UCB     | Average reward: 0.4274 | Percent optimal action: 0.2145\n",
      "Grad    | Average reward: 0.4949 | Percent optimal action: 0.9830\n"
     ]
    },
    {
     "name": "stderr",
     "output_type": "stream",
     "text": [
      "100%|██████████| 2000/2000 [00:32<00:00, 61.64it/s]\n"
     ]
    },
    {
     "name": "stdout",
     "output_type": "stream",
     "text": [
      "Num steps: 400\n",
      "Greedy  | Average reward: 0.6150 | Percent optimal action: 0.4790\n",
      "Epsilon | Average reward: 0.6827 | Percent optimal action: 0.9195\n",
      "UCB     | Average reward: 0.4465 | Percent optimal action: 0.2120\n",
      "Grad    | Average reward: 0.6019 | Percent optimal action: 0.9905\n"
     ]
    },
    {
     "name": "stderr",
     "output_type": "stream",
     "text": [
      "100%|██████████| 2000/2000 [00:57<00:00, 34.51it/s]\n"
     ]
    },
    {
     "name": "stdout",
     "output_type": "stream",
     "text": [
      "Num steps: 500\n",
      "Greedy  | Average reward: 0.6257 | Percent optimal action: 0.4870\n",
      "Epsilon | Average reward: 0.7035 | Percent optimal action: 0.9380\n",
      "UCB     | Average reward: 0.4633 | Percent optimal action: 0.2160\n",
      "Grad    | Average reward: 0.6749 | Percent optimal action: 0.9915\n"
     ]
    },
    {
     "name": "stderr",
     "output_type": "stream",
     "text": [
      "100%|██████████| 2000/2000 [01:20<00:00, 24.98it/s]\n"
     ]
    },
    {
     "name": "stdout",
     "output_type": "stream",
     "text": [
      "Num steps: 600\n",
      "Greedy  | Average reward: 0.6270 | Percent optimal action: 0.4760\n",
      "Epsilon | Average reward: 0.7173 | Percent optimal action: 0.9520\n",
      "UCB     | Average reward: 0.4574 | Percent optimal action: 0.2000\n",
      "Grad    | Average reward: 0.7199 | Percent optimal action: 0.9950\n"
     ]
    },
    {
     "name": "stderr",
     "output_type": "stream",
     "text": [
      "100%|██████████| 2000/2000 [01:49<00:00, 18.26it/s]\n"
     ]
    },
    {
     "name": "stdout",
     "output_type": "stream",
     "text": [
      "Num steps: 700\n",
      "Greedy  | Average reward: 0.6449 | Percent optimal action: 0.4965\n",
      "Epsilon | Average reward: 0.7319 | Percent optimal action: 0.9595\n",
      "UCB     | Average reward: 0.4697 | Percent optimal action: 0.2085\n",
      "Grad    | Average reward: 0.7553 | Percent optimal action: 0.9970\n"
     ]
    },
    {
     "name": "stderr",
     "output_type": "stream",
     "text": [
      "100%|██████████| 2000/2000 [01:05<00:00, 30.76it/s]\n"
     ]
    },
    {
     "name": "stdout",
     "output_type": "stream",
     "text": [
      "Num steps: 800\n",
      "Greedy  | Average reward: 0.6338 | Percent optimal action: 0.4845\n",
      "Epsilon | Average reward: 0.7393 | Percent optimal action: 0.9695\n",
      "UCB     | Average reward: 0.4698 | Percent optimal action: 0.2030\n",
      "Grad    | Average reward: 0.7808 | Percent optimal action: 0.9970\n"
     ]
    },
    {
     "name": "stderr",
     "output_type": "stream",
     "text": [
      "100%|██████████| 2000/2000 [01:13<00:00, 27.33it/s]\n"
     ]
    },
    {
     "name": "stdout",
     "output_type": "stream",
     "text": [
      "Num steps: 900\n",
      "Greedy  | Average reward: 0.6438 | Percent optimal action: 0.4950\n",
      "Epsilon | Average reward: 0.7533 | Percent optimal action: 0.9815\n",
      "UCB     | Average reward: 0.4733 | Percent optimal action: 0.1955\n",
      "Grad    | Average reward: 0.8006 | Percent optimal action: 0.9940\n"
     ]
    },
    {
     "name": "stderr",
     "output_type": "stream",
     "text": [
      "100%|██████████| 2000/2000 [01:21<00:00, 24.41it/s]"
     ]
    },
    {
     "name": "stdout",
     "output_type": "stream",
     "text": [
      "Num steps: 1000\n",
      "Greedy  | Average reward: 0.6371 | Percent optimal action: 0.4820\n",
      "Epsilon | Average reward: 0.7589 | Percent optimal action: 0.9860\n",
      "UCB     | Average reward: 0.4782 | Percent optimal action: 0.2015\n",
      "Grad    | Average reward: 0.8153 | Percent optimal action: 0.9975\n"
     ]
    },
    {
     "name": "stderr",
     "output_type": "stream",
     "text": [
      "\n"
     ]
    }
   ],
   "source": [
    "num_eval_steps = 2000\n",
    "num_step_ranges = np.arange(100, 1001, 100)\n",
    "\n",
    "\n",
    "# Evaluate each algorithm to see how well it does compared to the others\n",
    "for num_steps in num_step_ranges:\n",
    "    # Algo info\n",
    "    greedy_reward, greedy_times_selected = [], []\n",
    "    epsilon_reward, epsilon_times_selected = [], []\n",
    "    UCB_reward, UCB_times_selected = [], []\n",
    "    grad_reward, grad_times_selected = [], []\n",
    "    \n",
    "    # Collect data for num_eval_steps times\n",
    "    for step in tqdm(range(num_eval_steps)):\n",
    "        # Greedy search\n",
    "        pred, avg_reward = epsilon_search(action_values, epsilon=0.0, num_iterations=num_steps)\n",
    "        greedy_reward.append(avg_reward)\n",
    "        greedy_times_selected.append(pred.argmax() == optimal_action)\n",
    "        \n",
    "        # Epsilon search\n",
    "        pred, avg_reward = epsilon_search(action_values, epsilon=0.1, num_iterations=num_steps)\n",
    "        epsilon_reward.append(avg_reward)\n",
    "        epsilon_times_selected.append(pred.argmax() == optimal_action)\n",
    "        \n",
    "        # UCB search\n",
    "        pred, avg_reward = UCB_search(action_values, num_iterations=num_steps, c=0.5)\n",
    "        UCB_reward.append(avg_reward)\n",
    "        UCB_times_selected.append(pred.argmax() == optimal_action)\n",
    "        \n",
    "        # Grad search\n",
    "        pred, avg_reward = Grad_Ascent(action_values, num_iterations=num_steps)\n",
    "        grad_reward.append(avg_reward)\n",
    "        grad_times_selected.append(pred.argmax() == optimal_action)\n",
    "    \n",
    "    print(\"Num steps:\", num_steps)\n",
    "    print(f\"Greedy  | Average reward: {np.mean(greedy_reward):0.4f} | Percent optimal action: {np.mean(greedy_times_selected):0.4f}\")\n",
    "    print(f\"Epsilon | Average reward: {np.mean(epsilon_reward):0.4f} | Percent optimal action: {np.mean(epsilon_times_selected):0.4f}\")\n",
    "    print(f\"UCB     | Average reward: {np.mean(UCB_reward):0.4f} | Percent optimal action: {np.mean(UCB_times_selected):0.4f}\")\n",
    "    print(f\"Grad    | Average reward: {np.mean(grad_reward):0.4f} | Percent optimal action: {np.mean(grad_times_selected):0.4f}\")"
   ]
  },
  {
   "cell_type": "code",
   "execution_count": null,
   "metadata": {},
   "outputs": [],
   "source": []
  }
 ],
 "metadata": {
  "kernelspec": {
   "display_name": "Python 3",
   "language": "python",
   "name": "python3"
  },
  "language_info": {
   "codemirror_mode": {
    "name": "ipython",
    "version": 3
   },
   "file_extension": ".py",
   "mimetype": "text/x-python",
   "name": "python",
   "nbconvert_exporter": "python",
   "pygments_lexer": "ipython3",
   "version": "3.10.10"
  }
 },
 "nbformat": 4,
 "nbformat_minor": 2
}
