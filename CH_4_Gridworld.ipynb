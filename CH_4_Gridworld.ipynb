{
 "cells": [
  {
   "cell_type": "code",
   "execution_count": 1,
   "metadata": {},
   "outputs": [],
   "source": [
    "import numpy as np"
   ]
  },
  {
   "cell_type": "code",
   "execution_count": 2,
   "metadata": {},
   "outputs": [],
   "source": [
    "# Define the grid for gridworld\n",
    "grid = (4, 4)"
   ]
  },
  {
   "cell_type": "code",
   "execution_count": 3,
   "metadata": {},
   "outputs": [],
   "source": [
    "# Terminal states for the gridworld\n",
    "terminal_states = [\n",
    "    (0, 0),\n",
    "    (3, 3)\n",
    "]"
   ]
  },
  {
   "cell_type": "code",
   "execution_count": 4,
   "metadata": {},
   "outputs": [],
   "source": [
    "def random_policy(state):\n",
    "    # Policy returns random probabilities for each direction\n",
    "    return np.array([0.25, 0.25, 0.25, 0.25])"
   ]
  },
  {
   "cell_type": "code",
   "execution_count": 5,
   "metadata": {},
   "outputs": [],
   "source": [
    "def reward(state):\n",
    "    # Reward is always -1\n",
    "    return -1"
   ]
  },
  {
   "cell_type": "code",
   "execution_count": 6,
   "metadata": {},
   "outputs": [],
   "source": [
    "def state_transition(state, action):\n",
    "    # North is 0, East is 1, South is 2, West is 3\n",
    "    if action == 0:\n",
    "        state_ = (state[0]-1, state[1])\n",
    "    elif action == 1:\n",
    "        state_ = (state[0], state[1]+1)\n",
    "    elif action == 2:\n",
    "        state_ = (state[0]+1, state[1])\n",
    "    elif action == 3:\n",
    "        state_ = (state[0], state[1]-1)\n",
    "        \n",
    "    # Get reward for the next state (-1 or 0)\n",
    "    r = reward(state_)\n",
    "        \n",
    "    # If next state is greater than the bounds, move in bounds\n",
    "    state_ = (min(grid[0]-1, max(0, state_[0])), min(grid[1]-1, max(0, state_[1])))\n",
    "    \n",
    "    return state_, r"
   ]
  },
  {
   "cell_type": "code",
   "execution_count": 7,
   "metadata": {},
   "outputs": [],
   "source": [
    "# Function used to calculate the state_value of a given state\n",
    "def calculate_state_value(policy, state, d, stop_condition, discount):\n",
    "    if d == stop_condition or state in terminal_states:\n",
    "        return 0\n",
    "    \n",
    "    # Sample policy probabilities\n",
    "    probs = policy(state)\n",
    "    \n",
    "    total_value = 0\n",
    "    \n",
    "    # Iterate over all possible actions\n",
    "    for a in range(0, len(probs)):\n",
    "        # Policy probability pi(a | s)\n",
    "        p = probs[a]\n",
    "        \n",
    "        # With probability 1, we go to the next state\n",
    "        state_, r = state_transition(state, a)\n",
    "        \n",
    "        # Calculate value of future state\n",
    "        v = calculate_state_value(policy, state_, d+1, stop_condition, discount)\n",
    "        \n",
    "        # Sum of future states is just the next state as\n",
    "        # we deterministically move to the next state\n",
    "        # p(s', r | s, a) = 1\n",
    "        sum_ = 1 * (r + discount * v)\n",
    "        \n",
    "        # Weigh by the policy probability\n",
    "        value = p * sum_\n",
    "        \n",
    "        # Add to total value\n",
    "        total_value += value\n",
    "        \n",
    "    return total_value"
   ]
  },
  {
   "cell_type": "code",
   "execution_count": 8,
   "metadata": {},
   "outputs": [],
   "source": [
    "# Iterative policy evaluation, estimating v_k where k is the number of iterations\n",
    "k = 10\n",
    "thresh = 1e-4\n",
    "\n",
    "# Discount factor\n",
    "discount = 1.0\n",
    "\n",
    "# state-values initialized to zeros\n",
    "values = np.zeros(grid, dtype=float)\n",
    "\n",
    "\n",
    "# Loop until the threshold is met\n",
    "delta = 1\n",
    "while delta > thresh:\n",
    "    delta = 0\n",
    "    # Loop over all states\n",
    "    for (i, j) in np.ndindex(grid):\n",
    "        # Skip terminal states\n",
    "        if (i, j) in terminal_states:\n",
    "            continue\n",
    "        \n",
    "        # Get the current state\n",
    "        state = (i, j)\n",
    "        \n",
    "        # Get the value for this state\n",
    "        value = values[state]\n",
    "        \n",
    "        # Update the value for this state\n",
    "        values[state] = calculate_state_value(random_policy, state, 0, k, discount)\n",
    "        \n",
    "        # Get the delta\n",
    "        delta = max(delta, abs(value - values[state]))"
   ]
  },
  {
   "cell_type": "code",
   "execution_count": 9,
   "metadata": {},
   "outputs": [
    {
     "data": {
      "text/plain": [
       "0"
      ]
     },
     "execution_count": 9,
     "metadata": {},
     "output_type": "execute_result"
    }
   ],
   "source": [
    "delta"
   ]
  },
  {
   "cell_type": "code",
   "execution_count": 10,
   "metadata": {},
   "outputs": [
    {
     "data": {
      "text/plain": [
       "array([[ 0.  , -6.14, -8.35, -8.97],\n",
       "       [-6.14, -7.74, -8.43, -8.35],\n",
       "       [-8.35, -8.43, -7.74, -6.14],\n",
       "       [-8.97, -8.35, -6.14,  0.  ]])"
      ]
     },
     "execution_count": 10,
     "metadata": {},
     "output_type": "execute_result"
    }
   ],
   "source": [
    "values.round(2)"
   ]
  },
  {
   "cell_type": "code",
   "execution_count": null,
   "metadata": {},
   "outputs": [],
   "source": []
  }
 ],
 "metadata": {
  "kernelspec": {
   "display_name": "Python 3",
   "language": "python",
   "name": "python3"
  },
  "language_info": {
   "codemirror_mode": {
    "name": "ipython",
    "version": 3
   },
   "file_extension": ".py",
   "mimetype": "text/x-python",
   "name": "python",
   "nbconvert_exporter": "python",
   "pygments_lexer": "ipython3",
   "version": "3.10.10"
  }
 },
 "nbformat": 4,
 "nbformat_minor": 2
}
